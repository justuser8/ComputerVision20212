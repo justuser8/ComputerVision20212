{
 "cells": [
  {
   "cell_type": "markdown",
   "id": "d6fa274f-0d5e-43cf-bbc8-d45bd79c39c1",
   "metadata": {},
   "source": [
    "1.4.8 Image Pyramids"
   ]
  },
  {
   "cell_type": "code",
   "execution_count": null,
   "id": "e660b6ff-08c2-44ce-a087-f66da044c89a",
   "metadata": {},
   "outputs": [],
   "source": []
  },
  {
   "cell_type": "code",
   "execution_count": null,
   "id": "b3267c62-6f9a-490a-94db-e502b4a5a34e",
   "metadata": {},
   "outputs": [],
   "source": []
  },
  {
   "cell_type": "code",
   "execution_count": null,
   "id": "4cc9320e-9c8b-4ccb-a724-ce1e9661f958",
   "metadata": {},
   "outputs": [],
   "source": []
  },
  {
   "cell_type": "code",
   "execution_count": null,
   "id": "e04ba809-ddd5-49e1-8e56-eef1bbb236f9",
   "metadata": {},
   "outputs": [],
   "source": []
  },
  {
   "cell_type": "code",
   "execution_count": null,
   "id": "dbd62b2f-22ed-4f81-aa9c-a6dab3537d73",
   "metadata": {},
   "outputs": [],
   "source": []
  },
  {
   "cell_type": "code",
   "execution_count": null,
   "id": "a65bd17b-178c-4139-9ef0-165a44a8da0b",
   "metadata": {},
   "outputs": [],
   "source": []
  },
  {
   "cell_type": "code",
   "execution_count": null,
   "id": "11fe58a2-0a2e-4637-aa32-2d2fa95c2a64",
   "metadata": {},
   "outputs": [],
   "source": []
  }
 ],
 "metadata": {
  "kernelspec": {
   "display_name": "Python 3",
   "language": "python",
   "name": "python3"
  },
  "language_info": {
   "codemirror_mode": {
    "name": "ipython",
    "version": 3
   },
   "file_extension": ".py",
   "mimetype": "text/x-python",
   "name": "python",
   "nbconvert_exporter": "python",
   "pygments_lexer": "ipython3",
   "version": "3.9.4"
  }
 },
 "nbformat": 4,
 "nbformat_minor": 5
}
