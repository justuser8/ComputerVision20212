{
 "cells": [
  {
   "cell_type": "markdown",
   "id": "398937d6-1921-407c-bc33-0f08932637e1",
   "metadata": {},
   "source": [
    "Homework4"
   ]
  },
  {
   "cell_type": "code",
   "execution_count": 61,
   "id": "6871c076-e145-4dad-ad9f-53fdfa7bd490",
   "metadata": {},
   "outputs": [],
   "source": [
    "import cv2\n",
    "import numpy as np\n",
    "from matplotlib import pyplot as plt"
   ]
  },
  {
   "cell_type": "code",
   "execution_count": 62,
   "id": "4e7eca58-2a60-48f1-9abf-8c913bbc8ab3",
   "metadata": {},
   "outputs": [],
   "source": [
    "img = cv2.imread('book.jpeg')\n",
    "rows,cols,ch = img.shape\n",
    "pts1 = np.float32([[545,777],[2569,65],[2657,3913],[289,3369]]) #(왼쪽위,오른쪽 위,오른쪽아래, 왼쪽아래순)\n",
    "pts2 = np.float32([[0,0],[2500,0],[2500,3700],[0,3700]]) #척도\n",
    "M = cv2.getPerspectiveTransform(pts1,pts2)\n",
    "dst = cv2.warpPerspective(img,M,(2500,3700)) #output 전체 크기"
   ]
  },
  {
   "cell_type": "code",
   "execution_count": null,
   "id": "9293ccb2-2f98-4105-9130-e5d397aea8f2",
   "metadata": {},
   "outputs": [],
   "source": [
    "plt.rcParams[\"figure.figsize\"]=(15,5)\n",
    "plt.subplot(121),plt.imshow(img),plt.title('Input')\n",
    "plt.subplot(122),plt.imshow(dst),plt.title('Output')\n",
    "plt.show()"
   ]
  },
  {
   "cell_type": "code",
   "execution_count": null,
   "id": "6bc82865-e990-49a5-94d4-2eda9a803290",
   "metadata": {},
   "outputs": [],
   "source": []
  }
 ],
 "metadata": {
  "kernelspec": {
   "display_name": "Python 3",
   "language": "python",
   "name": "python3"
  },
  "language_info": {
   "codemirror_mode": {
    "name": "ipython",
    "version": 3
   },
   "file_extension": ".py",
   "mimetype": "text/x-python",
   "name": "python",
   "nbconvert_exporter": "python",
   "pygments_lexer": "ipython3",
   "version": "3.9.4"
  }
 },
 "nbformat": 4,
 "nbformat_minor": 5
}
